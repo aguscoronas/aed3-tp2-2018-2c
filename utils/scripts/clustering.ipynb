{
 "cells": [
  {
   "cell_type": "code",
   "execution_count": null,
   "metadata": {},
   "outputs": [],
   "source": [
    "import pandas as pd\n",
    "import matplotlib.pyplot as plt\n",
    "from subprocess import run, PIPE"
   ]
  },
  {
   "cell_type": "code",
   "execution_count": null,
   "metadata": {},
   "outputs": [],
   "source": [
    "datasetPath = '../datasets/a2.txt'\n",
    "executablePath = '../../clustering'\n",
    "mstMode = 'Prim'\n",
    "inconsistencyModeRange = ['StandardDeviation', 'Factor']\n",
    "neighborhoodDepthRange = ['3', '6']\n",
    "inconsistencyParameterRange = [str(x) for x in range(1, 6)]\n",
    "X = []\n",
    "Y = []\n",
    "with open(datasetPath) as fin:\n",
    "    pointsNumber = int(fin.readline())\n",
    "    for i in range(pointsNumber):\n",
    "        line = fin.readline()\n",
    "        positions = line.split()\n",
    "        X.append(int(positions[0]))\n",
    "        Y.append(int(positions[1]))\n",
    "\n",
    "#print(X[:10])\n",
    "#print(Y[:10])"
   ]
  },
  {
   "cell_type": "code",
   "execution_count": null,
   "metadata": {
    "scrolled": false
   },
   "outputs": [],
   "source": [
    "for inconsistencyMode in inconsistencyModeRange:\n",
    "    for neighborhoodDepth in neighborhoodDepthRange:\n",
    "        for inconsistencyParameter in inconsistencyParameterRange:\n",
    "            with open(datasetPath) as fin:\n",
    "                output = run([executablePath, mstMode, inconsistencyMode, neighborhoodDepth, inconsistencyParameter], check=True, text=True, stdin=fin, stdout=PIPE).stdout\n",
    "            C = [int(x) for x in output.split()]\n",
    "            clusters = len(set(C))\n",
    "            plt.scatter(X, Y, c=C)\n",
    "            plt.title('MST={0}, Inconsistency={1}({3}), Neighborhood depth={2}, Clusters={4}'.format(mstMode, inconsistencyMode, neighborhoodDepth, inconsistencyParameter, clusters))\n",
    "            plt.colorbar(scatter)\n",
    "            plt.show()\n",
    "#print(C[:10])"
   ]
  },
  {
   "cell_type": "code",
   "execution_count": null,
   "metadata": {},
   "outputs": [],
   "source": []
  }
 ],
 "metadata": {
  "kernelspec": {
   "display_name": "Python 3",
   "language": "python",
   "name": "python3"
  },
  "language_info": {
   "codemirror_mode": {
    "name": "ipython",
    "version": 3
   },
   "file_extension": ".py",
   "mimetype": "text/x-python",
   "name": "python",
   "nbconvert_exporter": "python",
   "pygments_lexer": "ipython3",
   "version": "3.7.0"
  }
 },
 "nbformat": 4,
 "nbformat_minor": 2
}
